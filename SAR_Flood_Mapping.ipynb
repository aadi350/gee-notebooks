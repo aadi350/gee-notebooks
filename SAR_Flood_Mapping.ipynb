{
  "nbformat": 4,
  "nbformat_minor": 0,
  "metadata": {
    "colab": {
      "name": "SAR Flood Mapping.ipynb",
      "provenance": [],
      "collapsed_sections": []
    },
    "kernelspec": {
      "name": "python3",
      "display_name": "Python 3"
    },
    "language_info": {
      "name": "python"
    }
  },
  "cells": [
    {
      "cell_type": "markdown",
      "metadata": {
        "id": "fp_7QhvBx1cL"
      },
      "source": [
        "# SAR Flood Mapping"
      ]
    },
    {
      "cell_type": "markdown",
      "metadata": {
        "id": "AgWieacE3XDT"
      },
      "source": [
        "Before we start working with SAR Imagery and Google Earth Engine (GEE), we first need to import a few libraries and perform authentication using your GEE account. \n",
        "\n",
        "Note, if this is your first time using GEE, you must sign up for an Earth Engine Developer Account using [this link](https://earthengine.google.com/new_signup/). It usually takes 2-3 business days, following which you will be able to use all GEE APIs in Python (and by extension in the code editor online)\n",
        "\n",
        "You will also need to import Folium, an interactive mapping application that meshes nicely with Earth Engine, and provides direct methods for much GEE's JavaScript functionality"
      ]
    },
    {
      "cell_type": "code",
      "metadata": {
        "id": "HrONbmkQ1AOb"
      },
      "source": [
        "import ee\n",
        "\n",
        "ee.Authenticate()\n",
        "ee.Initialize()"
      ],
      "execution_count": null,
      "outputs": []
    },
    {
      "cell_type": "markdown",
      "metadata": {
        "id": "lE3tYStw4LYg"
      },
      "source": [
        "So let's get started, first we need to specify two sets of date ranges. \n",
        "The first defines a period of time you know that no flooding had occurred, and we call this ```before_start``` and ```before_end```. We also need some date range for potentially flooded imagery, we use ```after_start``` and ```after_end``` to define another range, which we use to compare against our reference images"
      ]
    },
    {
      "cell_type": "code",
      "metadata": {
        "id": "62yS-4EV0qWJ"
      },
      "source": [
        "before_start= '2019-03-01';\n",
        "before_end='2019-03-10';\n",
        "\n",
        "after_start='2021-08-28';\n",
        "after_end='2021-09-05';"
      ],
      "execution_count": null,
      "outputs": []
    },
    {
      "cell_type": "markdown",
      "metadata": {
        "id": "7psi-CLC42Vl"
      },
      "source": [
        "### Polarization and Wave Stuff  \n",
        "Crash course on transverse waves and polarization angles:  \n",
        "    Polarization refers to the perpendicular restriction to the oscillations of transverse waves.\n",
        "\n",
        "Horizontal vs Vertical Polarisation\n",
        "Horizontally polarised waves are those which are restricted in the vertical domain (with respect to the wave generator/observer). In other terms, the transverse wave is free to oscillate left-to-right-to-left but not up-down\n",
        "\n",
        "Vertically polarised waves are allowed to oscillate in the up-down manner, but not in the side-to-side manner.\n",
        "\n",
        "What Does This Have to do with SAR?\n",
        "SAR Imagery **depends** on radio-waves. The 'picture' taken by a SAR camera is as a result of reflections from objects of incident radio waves. If you screamimg in a large hall is a SAR Satellite emitting its radio-waves, the image it takes is analogous to the echo you receive from your voice bouncing around as it is reflected back to your ears.\n",
        "\n",
        "The data we will use for this tutorial is sourced from the Sentinel-1 platform, which operates in the C-band (around 1-2GHz) in either single or dual polarizations.\n",
        "\n",
        "When we talk about polarizations that Sentine-1 operates in, we must define a sending and receiving mode. For example, *VV* indicates that the SAR imager is transmitting a vertically-polarized radiowave, and is listening in the same vertical polarization. If however, Sentinel-1 operates in *VH* mode, it is then transmitting in the vertical orientation, whilst receiving in the *perpendicular* orientation. This may seem counter-intuitive at first, however, certain objects (as we'd see shortly), cause certain types of scattering which can be observed by the disappearance (or appearance) of the *opposite* type of polarization.\n",
        "\n",
        "For example, **surface-scattering** occurs when radiowaves encounter a rough surface (such as bare soil), in this case, the VV and HH polarization tend to \"see\" these surfaces more clearly, as the complete redirection of incident waves is far less likely.\n",
        "\n",
        "Conversely, **volume scattering** occurs when multiple rebounces and redirection of incident waves occur, such as within the thick canopy of dense forests. For This application, the HV polarization tends to be the highest. \n",
        "\n",
        "In between both extremes, **double-reflection** between perpendicular or orthogonal surfaces will also result in a high return signal for the *HH* polarization.\n",
        "\n",
        "According to (Carreño Conde, Francisco, and María De Mata Muñoz. 2019. \"Flood Monitoring Based on the Study of Sentinel-1 SAR Images: The Ebro River Case Study\" Water 11, no. 12: 2454. https://doi.org/10.3390/w11122454), the VH polarization (send in vertical, receive in horizontal) yields the most consistent results in flood mapping. A word of caution however, since SAR wave reflection is also directly influence by dielectric properties of the reflecting body, you may need to experiment with different polarizations in order to achieve the desired results.\n",
        "\n"
      ]
    },
    {
      "cell_type": "code",
      "metadata": {
        "id": "lzDm1B4c426T"
      },
      "source": [
        "polarization = \"VH\""
      ],
      "execution_count": null,
      "outputs": []
    },
    {
      "cell_type": "markdown",
      "metadata": {
        "id": "djr8kulN43Hs"
      },
      "source": [
        "Sentinel-1 consists two satellites orbiting on opposite sides of the earth at any given point in time (Sentinel-1A and -1B). For this reason, for any patch on the earth's surface, any one of these satellites may be travelling upward (towards the north pole) or downwards (towards the south pole) depending on where in the orbital cycle each satellite is at any given point in time.\n",
        "\n",
        "Since the *direction* of pass can affect radiometric corrections required by any orbital-based imager, we wish to keep the direction of pass consistent for any images we wish to compare side-by-side"
      ]
    },
    {
      "cell_type": "code",
      "metadata": {
        "id": "H4OrcApA43lI"
      },
      "source": [
        "pass_direction = \"ASCENDING\""
      ],
      "execution_count": null,
      "outputs": []
    },
    {
      "cell_type": "markdown",
      "metadata": {
        "id": "wc0TrEqkO5ji"
      },
      "source": [
        "At this point,we define a polygon (by its endpoints) encompassing the New Orleans area. For sake of ease-of-intuition, I have also included a true-color image of the area being encompassed "
      ]
    },
    {
      "cell_type": "code",
      "metadata": {
        "id": "TVWqvKdk1s-Q"
      },
      "source": [
        "geometry = ee.Geometry.Polygon(\n",
        "        [[[-92.93870870124604, 30.57399079248121],\n",
        "          [-92.93870870124604, 29.1256766111735],\n",
        "          [-88.87376729499607, 29.1256766111735],\n",
        "          [-88.87376729499607, 30.57399079248121]]], None, True);"
      ],
      "execution_count": null,
      "outputs": []
    },
    {
      "cell_type": "markdown",
      "metadata": {
        "id": "H-4xdcAyQE5J"
      },
      "source": [
        "We create a ```FeatureCollection``` from our geometry, and name it aoi (for area-of-interest). A FeatureCollection is a wrapper that can handle multiple other types and enables functionality on the wrapped elements, such as sorting, filtering and rendering"
      ]
    },
    {
      "cell_type": "code",
      "metadata": {
        "id": "83b6d1OK1df_"
      },
      "source": [
        "aoi = ee.FeatureCollection(geometry);"
      ],
      "execution_count": null,
      "outputs": []
    },
    {
      "cell_type": "markdown",
      "metadata": {
        "id": "pYtF9m9VQkJf"
      },
      "source": [
        "## Data Selection\n",
        "In the following piece of code, we select the Sentinel-1 dataset and filter it to obtain our required bands/combinations as specified above."
      ]
    },
    {
      "cell_type": "code",
      "metadata": {
        "id": "MaDwK_9rRla9"
      },
      "source": [
        "collection= ee.ImageCollection('COPERNICUS/S1_GRD')\\\n",
        "  .filter(ee.Filter.eq('instrumentMode','IW'))\\\n",
        "  .filter(ee.Filter.listContains('transmitterReceiverPolarisation', polarization))\\\n",
        "  .filter(ee.Filter.eq('orbitProperties_pass',pass_direction))\\\n",
        "  .filter(ee.Filter.eq('resolution_meters',10))\\\n",
        "  .filterBounds(aoi)\\\n",
        "  .select(polarization)\\\n"
      ],
      "execution_count": null,
      "outputs": []
    },
    {
      "cell_type": "markdown",
      "metadata": {
        "id": "A2PVifVRQ0hM"
      },
      "source": [
        " It's a bit to take in so let's break it down:  \n",
        " First, we select Sentinel-1\n",
        "\n"
      ]
    },
    {
      "cell_type": "code",
      "metadata": {
        "id": "kWWBtqBtQ03T"
      },
      "source": [
        "ee.ImageCollection('COPERNICUS/S1_GRD')\\"
      ],
      "execution_count": null,
      "outputs": []
    },
    {
      "cell_type": "markdown",
      "metadata": {
        "id": "1bsF-2yaQ7Zu"
      },
      "source": [
        "We then filter this ImageCollection, which points to every single image that has ever been captured by Sentinel-1 and uploaded to GEE. We wish to obtain the Interferometric-Wide-Swath Mode of operation (otherwise known as the normal, usual mode for Sentinel-1, see [here](https://sentinels.copernicus.eu/web/sentinel/user-guides/sentinel-1-sar/acquisition-modes) for a breakdown of the different operating modes of Sentinel-1)."
      ]
    },
    {
      "cell_type": "code",
      "metadata": {
        "id": "vM7PgNFPQ7j-"
      },
      "source": [
        "    .filter(ee.Filter.eq('instrumentMode','IW'))\\"
      ],
      "execution_count": null,
      "outputs": []
    },
    {
      "cell_type": "markdown",
      "metadata": {
        "id": "dzBxbDNeRp-h"
      },
      "source": [
        "We then filter (based on the discussion above) to obtain the intended polarizations and pass directions. In this step we also filter by resolution, in order to make our before and after imagery directly comparable."
      ]
    },
    {
      "cell_type": "code",
      "metadata": {
        "id": "pZ53sJAwQkRz"
      },
      "source": [
        "    .filter(ee.Filter.listContains('transmitterReceiverPolarisation', polarization))\\\n",
        "    .filter(ee.Filter.eq('orbitProperties_pass',pass_direction))\\\n",
        "    .filter(ee.Filter.eq('resolution_meters',10))\\"
      ],
      "execution_count": null,
      "outputs": []
    },
    {
      "cell_type": "markdown",
      "metadata": {
        "id": "fAMqRI7HR6x2"
      },
      "source": [
        "Finally, we filter our resulting images by the area-of-interest defined in our ```FeatureCollection``` above, and select the required polarization."
      ]
    },
    {
      "cell_type": "code",
      "metadata": {
        "id": "625NT0y4SJoC"
      },
      "source": [
        "    .filterBounds(aoi)\n",
        "    .select(polarization)"
      ],
      "execution_count": null,
      "outputs": []
    },
    {
      "cell_type": "markdown",
      "metadata": {
        "id": "ZwOUBSsDSMXa"
      },
      "source": [
        "Now we wish to further zero-in on images from before and after/during potential flood events. To do this, we use the filtered ```collection``` from above, and use ```filterDate``` to get two sets of image collections"
      ]
    },
    {
      "cell_type": "code",
      "metadata": {
        "id": "e3KM-eG4QkiF"
      },
      "source": [
        "before_collection = collection.filterDate(before_start, before_end)\n",
        "after_collection = collection.filterDate(after_start,after_end)\n",
        "\n",
        "before = before_collection.mosaic().clip(aoi);\n",
        "after = after_collection.mosaic().clip(aoi);"
      ],
      "execution_count": null,
      "outputs": []
    },
    {
      "cell_type": "markdown",
      "metadata": {
        "id": "LnQIsor3SbXm"
      },
      "source": [
        "### Despeckle\n",
        "\n",
        "This step is especially important for radar-based imagery. *Speckle* is the term given to salt-and-pepper noise which is caused by out-of-phase waves reflected from the given target (in this case the patch of earth under current observation). We can use Earth Enginer's inbuilt functions to filter or *smooth* the filtered images using a defined smoothing radius.\n",
        "\n",
        "This is a morphological operation taking into account the mean values of all pixels within a radius of 50"
      ]
    },
    {
      "cell_type": "code",
      "metadata": {
        "id": "HWuYk38CSZ6x"
      },
      "source": [
        "smoothing_radius = 50;\n",
        "before_filtered = before.focal_mean(smoothing_radius, 'circle', 'meters');\n",
        "after_filtered = after.focal_mean(smoothing_radius, 'circle', 'meters');\n"
      ],
      "execution_count": null,
      "outputs": []
    },
    {
      "cell_type": "markdown",
      "metadata": {
        "id": "rSBilfpTvbr-"
      },
      "source": [
        "## Visualizing Flood Pixels\n",
        "\n",
        "Now we take both our completely pre-processed sets of images, and find the difference between them. To do this, we *divide* the after images by the before and threshold the result. The intuition is that, if any area in the after image has changed significantly, and given that we are working in the *VH* polarization (observing potential floods), we want to highlight the areas that have experienced the most change."
      ]
    },
    {
      "cell_type": "code",
      "metadata": {
        "id": "8Z1yOGNASZ8y"
      },
      "source": [
        "difference = after_filtered.divide(before_filtered);\n",
        "\n",
        "difference_threshold = 1.25\n",
        "threshold = difference_threshold;"
      ],
      "execution_count": null,
      "outputs": []
    },
    {
      "cell_type": "markdown",
      "metadata": {
        "id": "QynEtRd9wGq_"
      },
      "source": [
        "Using this differenced image, we can generate a binary image mask using the ```gt()``` function in Earth Engine"
      ]
    },
    {
      "cell_type": "code",
      "metadata": {
        "id": "6rDepCx8SZ_J"
      },
      "source": [
        "difference_binary = difference.gt(threshold);"
      ],
      "execution_count": null,
      "outputs": []
    },
    {
      "cell_type": "markdown",
      "metadata": {
        "id": "WWWMgrDPwLZY"
      },
      "source": [
        "\n",
        "## Optional - Further Masking\n",
        "In this section we use a curated dataset from the ESA (also part of the Copernicus programme). We create a mask using image pixels where water is present for more than 10 months of the year. We do not want to classify inland water bodies (lakes, ravines, etc) as flood\n",
        "\n"
      ]
    },
    {
      "cell_type": "code",
      "metadata": {
        "id": "cpbdFm5VwLkC"
      },
      "source": [
        "swater = ee.Image('JRC/GSW1_0/GlobalSurfaceWater').select('seasonality');\n",
        "swater_mask = swater.gte(10).updateMask(swater.gte(10));\n"
      ],
      "execution_count": null,
      "outputs": []
    },
    {
      "cell_type": "markdown",
      "metadata": {
        "id": "edH6xrpiwL40"
      },
      "source": [
        "Similar to the above, we create a binary mask for image areas that do contain water for most of the year, and update our initial flood mask from the Sentinel-1 data."
      ]
    },
    {
      "cell_type": "code",
      "metadata": {
        "id": "6NFZXbHkwMO4"
      },
      "source": [
        "flooded_mask = difference_binary.where(swater_mask,0);\n",
        "flooded = flooded_mask.updateMask(flooded_mask);"
      ],
      "execution_count": null,
      "outputs": []
    },
    {
      "cell_type": "markdown",
      "metadata": {
        "id": "Cqvk-Y4ixDYZ"
      },
      "source": [
        "As a semif-final processing step, we also eliminate spurios pixels, by ensuring that all flooded areas are connected to at least eight other pixels (this value can change, experiment to see what works for you). We use this connected pixel count to again create a binary mask, and update our flooded areas to exclude the pixels that existed in isolation."
      ]
    },
    {
      "cell_type": "code",
      "metadata": {
        "id": "zJ9n6EYbxDfC"
      },
      "source": [
        "connections = flooded.connectedPixelCount();    \n",
        "flooded = flooded.updateMask(connections.gte(8));\n"
      ],
      "execution_count": null,
      "outputs": []
    },
    {
      "cell_type": "markdown",
      "metadata": {
        "id": "kA_v5q_OxDlA"
      },
      "source": [
        "Finally, we use a Digital Elevation map (or **DEM**), to create the binary mask which removes area of greater than 5% slope. Once again, this value is not hard-and-fast; the intuition is that areas with such a steep slope may not be flooded unless significantly below sea level."
      ]
    },
    {
      "cell_type": "code",
      "metadata": {
        "id": "_nA-Lry_xDrN"
      },
      "source": [
        "DEM = ee.Image('WWF/HydroSHEDS/03VFDEM');\n",
        "terrain = ee.Algorithms.Terrain(DEM);\n",
        "slope = terrain.select('slope');\n",
        "flooded = flooded.updateMask(slope.lt(5));"
      ],
      "execution_count": null,
      "outputs": []
    },
    {
      "cell_type": "markdown",
      "metadata": {
        "id": "5tXfAEkIxy7k"
      },
      "source": [
        "## Visualization\n",
        "\n",
        "We will be using ```Folium```, which is an interactive library for creating maps in Python. This first section overrides an existing method which allows us to add raster images (and image collections) directly to a Folium map. This function is taken directly from the Earth Engine [developer documentation](https://developers.google.com/earth-engine/guides/python_install#folium-interactive-map-display)."
      ]
    },
    {
      "cell_type": "code",
      "metadata": {
        "id": "zlWKPfhH2SPN"
      },
      "source": [
        "import folium\n",
        "\n",
        "def add_ee_layer(self, ee_image_object, vis_params, name):\n",
        "    \"\"\"Adds a method for displaying Earth Engine image tiles to folium map.\"\"\"\n",
        "    map_id_dict = ee.Image(ee_image_object).getMapId(vis_params)\n",
        "    folium.raster_layers.TileLayer(\n",
        "        tiles=map_id_dict['tile_fetcher'].url_format,\n",
        "        attr='Map Data &copy; <a href=\"https://earthengine.google.com/\">Google Earth Engine</a>',\n",
        "        name=name,\n",
        "        overlay=True,\n",
        "        control=True\n",
        "    ).add_to(self)\n",
        "\n",
        "# Add Earth Engine drawing method to folium.\n",
        "folium.Map.add_ee_layer = add_ee_layer\n"
      ],
      "execution_count": null,
      "outputs": []
    },
    {
      "cell_type": "markdown",
      "metadata": {
        "id": "mk1xI4Ucysjv"
      },
      "source": [
        "We create a ```Map``` object using Folium, and add both the before and after images. \n",
        "\n",
        "The map objects ```{'min':-25,'max':0}``` set a range of values which would be displayed from the radio images. Because I did not explicitly define a colorscale, pixels with values -25 and below will clip to black, and pixels with values of 0 and greater will clip to white.\n",
        "\n",
        "### Dangerous Detour\n",
        "How do we have negative values?! \n",
        "\n",
        "Radio imagery is radiometrically corrected and the natural logarithm of the absolute values are taken before any sort of inference or interpretaion. This is due to the wide range of possible pixel values, and is typically manually performed using software such as the Sentinel toolbox. "
      ]
    },
    {
      "cell_type": "code",
      "metadata": {
        "id": "Aw96zwsiystr"
      },
      "source": [
        "Map = folium.Map()\n",
        "\n",
        "Map.add_ee_layer(before_filtered, {'min':-25,'max':0},0);\n",
        "Map.add_ee_layer(after_filtered, {'min':-25,'max':0},1);"
      ],
      "execution_count": null,
      "outputs": []
    },
    {
      "cell_type": "markdown",
      "metadata": {
        "id": "nBSCbdxYz9FW"
      },
      "source": [
        "\n",
        "Finally, we add the actual flooded area layer, and give it a colour blue using the corresponding hex code."
      ]
    },
    {
      "cell_type": "code",
      "metadata": {
        "colab": {
          "base_uri": "https://localhost:8080/",
          "height": 1000
        },
        "id": "2wBwW3103AAR",
        "outputId": "4f134c06-5db4-44b5-cf0a-6b437fc69f98"
      },
      "source": [
        "Map.add_ee_layer(flooded,{'palette':\"0000FF\"},'Flooded areas')\n",
        "\n",
        "display(Map)"
      ],
      "execution_count": null,
      "outputs": [
        {
          "output_type": "display_data",
          "data": {
            "text/html": [
              "<div style=\"width:100%;\"><div style=\"position:relative;width:100%;height:0;padding-bottom:60%;\"><span style=\"color:#565656\">Make this Notebook Trusted to load map: File -> Trust Notebook</span><iframe src=\"about:blank\" style=\"position:absolute;width:100%;height:100%;left:0;top:0;border:none !important;\" data-html=%3C%21DOCTYPE%20html%3E%0A%3Chead%3E%20%20%20%20%0A%20%20%20%20%3Cmeta%20http-equiv%3D%22content-type%22%20content%3D%22text/html%3B%20charset%3DUTF-8%22%20/%3E%0A%20%20%20%20%3Cscript%3EL_PREFER_CANVAS%3Dfalse%3B%20L_NO_TOUCH%3Dfalse%3B%20L_DISABLE_3D%3Dfalse%3B%3C/script%3E%0A%20%20%20%20%3Cscript%20src%3D%22https%3A//cdn.jsdelivr.net/npm/leaflet%401.4.0/dist/leaflet.js%22%3E%3C/script%3E%0A%20%20%20%20%3Cscript%20src%3D%22https%3A//code.jquery.com/jquery-1.12.4.min.js%22%3E%3C/script%3E%0A%20%20%20%20%3Cscript%20src%3D%22https%3A//maxcdn.bootstrapcdn.com/bootstrap/3.2.0/js/bootstrap.min.js%22%3E%3C/script%3E%0A%20%20%20%20%3Cscript%20src%3D%22https%3A//cdnjs.cloudflare.com/ajax/libs/Leaflet.awesome-markers/2.0.2/leaflet.awesome-markers.js%22%3E%3C/script%3E%0A%20%20%20%20%3Clink%20rel%3D%22stylesheet%22%20href%3D%22https%3A//cdn.jsdelivr.net/npm/leaflet%401.4.0/dist/leaflet.css%22/%3E%0A%20%20%20%20%3Clink%20rel%3D%22stylesheet%22%20href%3D%22https%3A//maxcdn.bootstrapcdn.com/bootstrap/3.2.0/css/bootstrap.min.css%22/%3E%0A%20%20%20%20%3Clink%20rel%3D%22stylesheet%22%20href%3D%22https%3A//maxcdn.bootstrapcdn.com/bootstrap/3.2.0/css/bootstrap-theme.min.css%22/%3E%0A%20%20%20%20%3Clink%20rel%3D%22stylesheet%22%20href%3D%22https%3A//maxcdn.bootstrapcdn.com/font-awesome/4.6.3/css/font-awesome.min.css%22/%3E%0A%20%20%20%20%3Clink%20rel%3D%22stylesheet%22%20href%3D%22https%3A//cdnjs.cloudflare.com/ajax/libs/Leaflet.awesome-markers/2.0.2/leaflet.awesome-markers.css%22/%3E%0A%20%20%20%20%3Clink%20rel%3D%22stylesheet%22%20href%3D%22https%3A//rawcdn.githack.com/python-visualization/folium/master/folium/templates/leaflet.awesome.rotate.css%22/%3E%0A%20%20%20%20%3Cstyle%3Ehtml%2C%20body%20%7Bwidth%3A%20100%25%3Bheight%3A%20100%25%3Bmargin%3A%200%3Bpadding%3A%200%3B%7D%3C/style%3E%0A%20%20%20%20%3Cstyle%3E%23map%20%7Bposition%3Aabsolute%3Btop%3A0%3Bbottom%3A0%3Bright%3A0%3Bleft%3A0%3B%7D%3C/style%3E%0A%20%20%20%20%0A%20%20%20%20%3Cmeta%20name%3D%22viewport%22%20content%3D%22width%3Ddevice-width%2C%0A%20%20%20%20%20%20%20%20initial-scale%3D1.0%2C%20maximum-scale%3D1.0%2C%20user-scalable%3Dno%22%20/%3E%0A%20%20%20%20%3Cstyle%3E%23map_5ff2fc6f5da3404aa5713c8e4a8622fa%20%7B%0A%20%20%20%20%20%20%20%20position%3A%20relative%3B%0A%20%20%20%20%20%20%20%20width%3A%20100.0%25%3B%0A%20%20%20%20%20%20%20%20height%3A%20100.0%25%3B%0A%20%20%20%20%20%20%20%20left%3A%200.0%25%3B%0A%20%20%20%20%20%20%20%20top%3A%200.0%25%3B%0A%20%20%20%20%20%20%20%20%7D%0A%20%20%20%20%3C/style%3E%0A%3C/head%3E%0A%3Cbody%3E%20%20%20%20%0A%20%20%20%20%0A%20%20%20%20%3Cdiv%20class%3D%22folium-map%22%20id%3D%22map_5ff2fc6f5da3404aa5713c8e4a8622fa%22%20%3E%3C/div%3E%0A%3C/body%3E%0A%3Cscript%3E%20%20%20%20%0A%20%20%20%20%0A%20%20%20%20%0A%20%20%20%20%20%20%20%20var%20bounds%20%3D%20null%3B%0A%20%20%20%20%0A%0A%20%20%20%20var%20map_5ff2fc6f5da3404aa5713c8e4a8622fa%20%3D%20L.map%28%0A%20%20%20%20%20%20%20%20%27map_5ff2fc6f5da3404aa5713c8e4a8622fa%27%2C%20%7B%0A%20%20%20%20%20%20%20%20center%3A%20%5B0%2C%200%5D%2C%0A%20%20%20%20%20%20%20%20zoom%3A%201%2C%0A%20%20%20%20%20%20%20%20maxBounds%3A%20bounds%2C%0A%20%20%20%20%20%20%20%20layers%3A%20%5B%5D%2C%0A%20%20%20%20%20%20%20%20worldCopyJump%3A%20false%2C%0A%20%20%20%20%20%20%20%20crs%3A%20L.CRS.EPSG3857%2C%0A%20%20%20%20%20%20%20%20zoomControl%3A%20true%2C%0A%20%20%20%20%20%20%20%20%7D%29%3B%0A%0A%0A%20%20%20%20%0A%20%20%20%20var%20tile_layer_82fe3e5d4bcc42b89fb70ff81550848a%20%3D%20L.tileLayer%28%0A%20%20%20%20%20%20%20%20%27https%3A//%7Bs%7D.tile.openstreetmap.org/%7Bz%7D/%7Bx%7D/%7By%7D.png%27%2C%0A%20%20%20%20%20%20%20%20%7B%0A%20%20%20%20%20%20%20%20%22attribution%22%3A%20null%2C%0A%20%20%20%20%20%20%20%20%22detectRetina%22%3A%20false%2C%0A%20%20%20%20%20%20%20%20%22maxNativeZoom%22%3A%2018%2C%0A%20%20%20%20%20%20%20%20%22maxZoom%22%3A%2018%2C%0A%20%20%20%20%20%20%20%20%22minZoom%22%3A%200%2C%0A%20%20%20%20%20%20%20%20%22noWrap%22%3A%20false%2C%0A%20%20%20%20%20%20%20%20%22opacity%22%3A%201%2C%0A%20%20%20%20%20%20%20%20%22subdomains%22%3A%20%22abc%22%2C%0A%20%20%20%20%20%20%20%20%22tms%22%3A%20false%0A%7D%29.addTo%28map_5ff2fc6f5da3404aa5713c8e4a8622fa%29%3B%0A%20%20%20%20var%20tile_layer_32f12ce790674677aaeb48a90d919ff5%20%3D%20L.tileLayer%28%0A%20%20%20%20%20%20%20%20%27https%3A//earthengine.googleapis.com/v1alpha/projects/earthengine-legacy/maps/00d29d0e839ae5a55cc74b53258c23fe-5358088b7c8e5a0d7259933a2e308ae8/tiles/%7Bz%7D/%7Bx%7D/%7By%7D%27%2C%0A%20%20%20%20%20%20%20%20%7B%0A%20%20%20%20%20%20%20%20%22attribution%22%3A%20%22Map%20Data%20%26copy%3B%20%3Ca%20href%3D%5C%22https%3A//earthengine.google.com/%5C%22%3EGoogle%20Earth%20Engine%3C/a%3E%22%2C%0A%20%20%20%20%20%20%20%20%22detectRetina%22%3A%20false%2C%0A%20%20%20%20%20%20%20%20%22maxNativeZoom%22%3A%2018%2C%0A%20%20%20%20%20%20%20%20%22maxZoom%22%3A%2018%2C%0A%20%20%20%20%20%20%20%20%22minZoom%22%3A%200%2C%0A%20%20%20%20%20%20%20%20%22noWrap%22%3A%20false%2C%0A%20%20%20%20%20%20%20%20%22opacity%22%3A%201%2C%0A%20%20%20%20%20%20%20%20%22subdomains%22%3A%20%22abc%22%2C%0A%20%20%20%20%20%20%20%20%22tms%22%3A%20false%0A%7D%29.addTo%28map_5ff2fc6f5da3404aa5713c8e4a8622fa%29%3B%0A%20%20%20%20var%20tile_layer_fff7ef0bcedc4571a1c9ebab6a403891%20%3D%20L.tileLayer%28%0A%20%20%20%20%20%20%20%20%27https%3A//earthengine.googleapis.com/v1alpha/projects/earthengine-legacy/maps/0a93b8417cf8a46c855d16a6126c15f4-4a00c0533692f4c64f60612e8f1fb60b/tiles/%7Bz%7D/%7Bx%7D/%7By%7D%27%2C%0A%20%20%20%20%20%20%20%20%7B%0A%20%20%20%20%20%20%20%20%22attribution%22%3A%20%22Map%20Data%20%26copy%3B%20%3Ca%20href%3D%5C%22https%3A//earthengine.google.com/%5C%22%3EGoogle%20Earth%20Engine%3C/a%3E%22%2C%0A%20%20%20%20%20%20%20%20%22detectRetina%22%3A%20false%2C%0A%20%20%20%20%20%20%20%20%22maxNativeZoom%22%3A%2018%2C%0A%20%20%20%20%20%20%20%20%22maxZoom%22%3A%2018%2C%0A%20%20%20%20%20%20%20%20%22minZoom%22%3A%200%2C%0A%20%20%20%20%20%20%20%20%22noWrap%22%3A%20false%2C%0A%20%20%20%20%20%20%20%20%22opacity%22%3A%201%2C%0A%20%20%20%20%20%20%20%20%22subdomains%22%3A%20%22abc%22%2C%0A%20%20%20%20%20%20%20%20%22tms%22%3A%20false%0A%7D%29.addTo%28map_5ff2fc6f5da3404aa5713c8e4a8622fa%29%3B%0A%20%20%20%20var%20tile_layer_43b7907909834ca7b5da34292b8eb432%20%3D%20L.tileLayer%28%0A%20%20%20%20%20%20%20%20%27https%3A//earthengine.googleapis.com/v1alpha/projects/earthengine-legacy/maps/6ef2423e894a0e84810433029e16c4b5-d7381fe944d8faf63192b7b1b7f384ec/tiles/%7Bz%7D/%7Bx%7D/%7By%7D%27%2C%0A%20%20%20%20%20%20%20%20%7B%0A%20%20%20%20%20%20%20%20%22attribution%22%3A%20%22Map%20Data%20%26copy%3B%20%3Ca%20href%3D%5C%22https%3A//earthengine.google.com/%5C%22%3EGoogle%20Earth%20Engine%3C/a%3E%22%2C%0A%20%20%20%20%20%20%20%20%22detectRetina%22%3A%20false%2C%0A%20%20%20%20%20%20%20%20%22maxNativeZoom%22%3A%2018%2C%0A%20%20%20%20%20%20%20%20%22maxZoom%22%3A%2018%2C%0A%20%20%20%20%20%20%20%20%22minZoom%22%3A%200%2C%0A%20%20%20%20%20%20%20%20%22noWrap%22%3A%20false%2C%0A%20%20%20%20%20%20%20%20%22opacity%22%3A%201%2C%0A%20%20%20%20%20%20%20%20%22subdomains%22%3A%20%22abc%22%2C%0A%20%20%20%20%20%20%20%20%22tms%22%3A%20false%0A%7D%29.addTo%28map_5ff2fc6f5da3404aa5713c8e4a8622fa%29%3B%0A%3C/script%3E onload=\"this.contentDocument.open();this.contentDocument.write(    decodeURIComponent(this.getAttribute('data-html')));this.contentDocument.close();\" allowfullscreen webkitallowfullscreen mozallowfullscreen></iframe></div></div>"
            ],
            "text/plain": [
              "<folium.folium.Map at 0x7f8712f24cd0>"
            ]
          },
          "metadata": {}
        }
      ]
    },
    {
      "cell_type": "markdown",
      "metadata": {
        "id": "fB_MHjbC0JsG"
      },
      "source": [
        "### References\n",
        "\n",
        "*Contains modified Copernicus Sentinel data 2021' for Sentinel data*\n",
        "\n",
        "\n",
        "[UN Recommended Practice: Radar-based Flood Mapping\n",
        "](https://www.un-spider.org/advisory-support/recommended-practices/recommended-practice-radar-based-flood-mapping)\n",
        "\n",
        "K. Dasari, L. Anjaneyulu, P. V. Jayasri and A. V. V. Prasad, \"Importance of speckle filtering in image classification of SAR data,\" 2015 International Conference on Microwave, Optical and Communication Engineering (ICMOCE), 2015, pp. 349-352, doi: 10.1109/ICMOCE.2015.7489764.\n",
        "\n",
        "\n",
        "Gorelick, Noel, Matt Hancher, Mike Dixon, Simon Ilyushchenko, David Thau, and Rebecca Moore. \"Google Earth Engine: Planetary-scale geospatial analysis for everyone.\" Remote sensing of Environment 202 (2017): 18-27.\n"
      ]
    }
  ]
}